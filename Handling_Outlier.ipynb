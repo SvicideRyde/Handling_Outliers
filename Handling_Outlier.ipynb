{
  "nbformat": 4,
  "nbformat_minor": 0,
  "metadata": {
    "colab": {
      "provenance": [],
      "authorship_tag": "ABX9TyMrbQdL8hdFaI4ifECwV0Is",
      "include_colab_link": true
    },
    "kernelspec": {
      "name": "python3",
      "display_name": "Python 3"
    },
    "language_info": {
      "name": "python"
    }
  },
  "cells": [
    {
      "cell_type": "markdown",
      "metadata": {
        "id": "view-in-github",
        "colab_type": "text"
      },
      "source": [
        "<a href=\"https://colab.research.google.com/github/SvicideRyde/Testing/blob/main/Handling_Outlier.ipynb\" target=\"_parent\"><img src=\"https://colab.research.google.com/assets/colab-badge.svg\" alt=\"Open In Colab\"/></a>"
      ]
    },
    {
      "cell_type": "code",
      "execution_count": 3,
      "metadata": {
        "id": "hg9OEv7PholY"
      },
      "outputs": [],
      "source": [
        "import pandas as pd\n",
        "import seaborn as sns\n",
        "import matplotlib.pyplot as plt\n",
        "import numpy as np"
      ]
    },
    {
      "cell_type": "code",
      "source": [
        "data = pd.read_csv('customer_shopping_data.csv')"
      ],
      "metadata": {
        "id": "3r2k6z7Hqpn2"
      },
      "execution_count": 16,
      "outputs": []
    },
    {
      "cell_type": "code",
      "source": [
        "data.describe()"
      ],
      "metadata": {
        "colab": {
          "base_uri": "https://localhost:8080/",
          "height": 300
        },
        "id": "LCY2NZ5PqzMf",
        "outputId": "0648ca3d-71bc-45dd-c1ee-192b8ac51720"
      },
      "execution_count": 17,
      "outputs": [
        {
          "output_type": "execute_result",
          "data": {
            "text/plain": [
              "                age      quantity         price\n",
              "count  99457.000000  99457.000000  99457.000000\n",
              "mean      43.427089      3.003429    689.256321\n",
              "std       14.990054      1.413025    941.184567\n",
              "min       18.000000      1.000000      5.230000\n",
              "25%       30.000000      2.000000     45.450000\n",
              "50%       43.000000      3.000000    203.300000\n",
              "75%       56.000000      4.000000   1200.320000\n",
              "max       69.000000      5.000000   5250.000000"
            ],
            "text/html": [
              "\n",
              "  <div id=\"df-db5040a1-df48-442b-9437-57e4cf0ed324\" class=\"colab-df-container\">\n",
              "    <div>\n",
              "<style scoped>\n",
              "    .dataframe tbody tr th:only-of-type {\n",
              "        vertical-align: middle;\n",
              "    }\n",
              "\n",
              "    .dataframe tbody tr th {\n",
              "        vertical-align: top;\n",
              "    }\n",
              "\n",
              "    .dataframe thead th {\n",
              "        text-align: right;\n",
              "    }\n",
              "</style>\n",
              "<table border=\"1\" class=\"dataframe\">\n",
              "  <thead>\n",
              "    <tr style=\"text-align: right;\">\n",
              "      <th></th>\n",
              "      <th>age</th>\n",
              "      <th>quantity</th>\n",
              "      <th>price</th>\n",
              "    </tr>\n",
              "  </thead>\n",
              "  <tbody>\n",
              "    <tr>\n",
              "      <th>count</th>\n",
              "      <td>99457.000000</td>\n",
              "      <td>99457.000000</td>\n",
              "      <td>99457.000000</td>\n",
              "    </tr>\n",
              "    <tr>\n",
              "      <th>mean</th>\n",
              "      <td>43.427089</td>\n",
              "      <td>3.003429</td>\n",
              "      <td>689.256321</td>\n",
              "    </tr>\n",
              "    <tr>\n",
              "      <th>std</th>\n",
              "      <td>14.990054</td>\n",
              "      <td>1.413025</td>\n",
              "      <td>941.184567</td>\n",
              "    </tr>\n",
              "    <tr>\n",
              "      <th>min</th>\n",
              "      <td>18.000000</td>\n",
              "      <td>1.000000</td>\n",
              "      <td>5.230000</td>\n",
              "    </tr>\n",
              "    <tr>\n",
              "      <th>25%</th>\n",
              "      <td>30.000000</td>\n",
              "      <td>2.000000</td>\n",
              "      <td>45.450000</td>\n",
              "    </tr>\n",
              "    <tr>\n",
              "      <th>50%</th>\n",
              "      <td>43.000000</td>\n",
              "      <td>3.000000</td>\n",
              "      <td>203.300000</td>\n",
              "    </tr>\n",
              "    <tr>\n",
              "      <th>75%</th>\n",
              "      <td>56.000000</td>\n",
              "      <td>4.000000</td>\n",
              "      <td>1200.320000</td>\n",
              "    </tr>\n",
              "    <tr>\n",
              "      <th>max</th>\n",
              "      <td>69.000000</td>\n",
              "      <td>5.000000</td>\n",
              "      <td>5250.000000</td>\n",
              "    </tr>\n",
              "  </tbody>\n",
              "</table>\n",
              "</div>\n",
              "    <div class=\"colab-df-buttons\">\n",
              "\n",
              "  <div class=\"colab-df-container\">\n",
              "    <button class=\"colab-df-convert\" onclick=\"convertToInteractive('df-db5040a1-df48-442b-9437-57e4cf0ed324')\"\n",
              "            title=\"Convert this dataframe to an interactive table.\"\n",
              "            style=\"display:none;\">\n",
              "\n",
              "  <svg xmlns=\"http://www.w3.org/2000/svg\" height=\"24px\" viewBox=\"0 -960 960 960\">\n",
              "    <path d=\"M120-120v-720h720v720H120Zm60-500h600v-160H180v160Zm220 220h160v-160H400v160Zm0 220h160v-160H400v160ZM180-400h160v-160H180v160Zm440 0h160v-160H620v160ZM180-180h160v-160H180v160Zm440 0h160v-160H620v160Z\"/>\n",
              "  </svg>\n",
              "    </button>\n",
              "\n",
              "  <style>\n",
              "    .colab-df-container {\n",
              "      display:flex;\n",
              "      gap: 12px;\n",
              "    }\n",
              "\n",
              "    .colab-df-convert {\n",
              "      background-color: #E8F0FE;\n",
              "      border: none;\n",
              "      border-radius: 50%;\n",
              "      cursor: pointer;\n",
              "      display: none;\n",
              "      fill: #1967D2;\n",
              "      height: 32px;\n",
              "      padding: 0 0 0 0;\n",
              "      width: 32px;\n",
              "    }\n",
              "\n",
              "    .colab-df-convert:hover {\n",
              "      background-color: #E2EBFA;\n",
              "      box-shadow: 0px 1px 2px rgba(60, 64, 67, 0.3), 0px 1px 3px 1px rgba(60, 64, 67, 0.15);\n",
              "      fill: #174EA6;\n",
              "    }\n",
              "\n",
              "    .colab-df-buttons div {\n",
              "      margin-bottom: 4px;\n",
              "    }\n",
              "\n",
              "    [theme=dark] .colab-df-convert {\n",
              "      background-color: #3B4455;\n",
              "      fill: #D2E3FC;\n",
              "    }\n",
              "\n",
              "    [theme=dark] .colab-df-convert:hover {\n",
              "      background-color: #434B5C;\n",
              "      box-shadow: 0px 1px 3px 1px rgba(0, 0, 0, 0.15);\n",
              "      filter: drop-shadow(0px 1px 2px rgba(0, 0, 0, 0.3));\n",
              "      fill: #FFFFFF;\n",
              "    }\n",
              "  </style>\n",
              "\n",
              "    <script>\n",
              "      const buttonEl =\n",
              "        document.querySelector('#df-db5040a1-df48-442b-9437-57e4cf0ed324 button.colab-df-convert');\n",
              "      buttonEl.style.display =\n",
              "        google.colab.kernel.accessAllowed ? 'block' : 'none';\n",
              "\n",
              "      async function convertToInteractive(key) {\n",
              "        const element = document.querySelector('#df-db5040a1-df48-442b-9437-57e4cf0ed324');\n",
              "        const dataTable =\n",
              "          await google.colab.kernel.invokeFunction('convertToInteractive',\n",
              "                                                    [key], {});\n",
              "        if (!dataTable) return;\n",
              "\n",
              "        const docLinkHtml = 'Like what you see? Visit the ' +\n",
              "          '<a target=\"_blank\" href=https://colab.research.google.com/notebooks/data_table.ipynb>data table notebook</a>'\n",
              "          + ' to learn more about interactive tables.';\n",
              "        element.innerHTML = '';\n",
              "        dataTable['output_type'] = 'display_data';\n",
              "        await google.colab.output.renderOutput(dataTable, element);\n",
              "        const docLink = document.createElement('div');\n",
              "        docLink.innerHTML = docLinkHtml;\n",
              "        element.appendChild(docLink);\n",
              "      }\n",
              "    </script>\n",
              "  </div>\n",
              "\n",
              "\n",
              "<div id=\"df-156376b1-69bb-4532-af07-9e992f4470be\">\n",
              "  <button class=\"colab-df-quickchart\" onclick=\"quickchart('df-156376b1-69bb-4532-af07-9e992f4470be')\"\n",
              "            title=\"Suggest charts\"\n",
              "            style=\"display:none;\">\n",
              "\n",
              "<svg xmlns=\"http://www.w3.org/2000/svg\" height=\"24px\"viewBox=\"0 0 24 24\"\n",
              "     width=\"24px\">\n",
              "    <g>\n",
              "        <path d=\"M19 3H5c-1.1 0-2 .9-2 2v14c0 1.1.9 2 2 2h14c1.1 0 2-.9 2-2V5c0-1.1-.9-2-2-2zM9 17H7v-7h2v7zm4 0h-2V7h2v10zm4 0h-2v-4h2v4z\"/>\n",
              "    </g>\n",
              "</svg>\n",
              "  </button>\n",
              "\n",
              "<style>\n",
              "  .colab-df-quickchart {\n",
              "      --bg-color: #E8F0FE;\n",
              "      --fill-color: #1967D2;\n",
              "      --hover-bg-color: #E2EBFA;\n",
              "      --hover-fill-color: #174EA6;\n",
              "      --disabled-fill-color: #AAA;\n",
              "      --disabled-bg-color: #DDD;\n",
              "  }\n",
              "\n",
              "  [theme=dark] .colab-df-quickchart {\n",
              "      --bg-color: #3B4455;\n",
              "      --fill-color: #D2E3FC;\n",
              "      --hover-bg-color: #434B5C;\n",
              "      --hover-fill-color: #FFFFFF;\n",
              "      --disabled-bg-color: #3B4455;\n",
              "      --disabled-fill-color: #666;\n",
              "  }\n",
              "\n",
              "  .colab-df-quickchart {\n",
              "    background-color: var(--bg-color);\n",
              "    border: none;\n",
              "    border-radius: 50%;\n",
              "    cursor: pointer;\n",
              "    display: none;\n",
              "    fill: var(--fill-color);\n",
              "    height: 32px;\n",
              "    padding: 0;\n",
              "    width: 32px;\n",
              "  }\n",
              "\n",
              "  .colab-df-quickchart:hover {\n",
              "    background-color: var(--hover-bg-color);\n",
              "    box-shadow: 0 1px 2px rgba(60, 64, 67, 0.3), 0 1px 3px 1px rgba(60, 64, 67, 0.15);\n",
              "    fill: var(--button-hover-fill-color);\n",
              "  }\n",
              "\n",
              "  .colab-df-quickchart-complete:disabled,\n",
              "  .colab-df-quickchart-complete:disabled:hover {\n",
              "    background-color: var(--disabled-bg-color);\n",
              "    fill: var(--disabled-fill-color);\n",
              "    box-shadow: none;\n",
              "  }\n",
              "\n",
              "  .colab-df-spinner {\n",
              "    border: 2px solid var(--fill-color);\n",
              "    border-color: transparent;\n",
              "    border-bottom-color: var(--fill-color);\n",
              "    animation:\n",
              "      spin 1s steps(1) infinite;\n",
              "  }\n",
              "\n",
              "  @keyframes spin {\n",
              "    0% {\n",
              "      border-color: transparent;\n",
              "      border-bottom-color: var(--fill-color);\n",
              "      border-left-color: var(--fill-color);\n",
              "    }\n",
              "    20% {\n",
              "      border-color: transparent;\n",
              "      border-left-color: var(--fill-color);\n",
              "      border-top-color: var(--fill-color);\n",
              "    }\n",
              "    30% {\n",
              "      border-color: transparent;\n",
              "      border-left-color: var(--fill-color);\n",
              "      border-top-color: var(--fill-color);\n",
              "      border-right-color: var(--fill-color);\n",
              "    }\n",
              "    40% {\n",
              "      border-color: transparent;\n",
              "      border-right-color: var(--fill-color);\n",
              "      border-top-color: var(--fill-color);\n",
              "    }\n",
              "    60% {\n",
              "      border-color: transparent;\n",
              "      border-right-color: var(--fill-color);\n",
              "    }\n",
              "    80% {\n",
              "      border-color: transparent;\n",
              "      border-right-color: var(--fill-color);\n",
              "      border-bottom-color: var(--fill-color);\n",
              "    }\n",
              "    90% {\n",
              "      border-color: transparent;\n",
              "      border-bottom-color: var(--fill-color);\n",
              "    }\n",
              "  }\n",
              "</style>\n",
              "\n",
              "  <script>\n",
              "    async function quickchart(key) {\n",
              "      const quickchartButtonEl =\n",
              "        document.querySelector('#' + key + ' button');\n",
              "      quickchartButtonEl.disabled = true;  // To prevent multiple clicks.\n",
              "      quickchartButtonEl.classList.add('colab-df-spinner');\n",
              "      try {\n",
              "        const charts = await google.colab.kernel.invokeFunction(\n",
              "            'suggestCharts', [key], {});\n",
              "      } catch (error) {\n",
              "        console.error('Error during call to suggestCharts:', error);\n",
              "      }\n",
              "      quickchartButtonEl.classList.remove('colab-df-spinner');\n",
              "      quickchartButtonEl.classList.add('colab-df-quickchart-complete');\n",
              "    }\n",
              "    (() => {\n",
              "      let quickchartButtonEl =\n",
              "        document.querySelector('#df-156376b1-69bb-4532-af07-9e992f4470be button');\n",
              "      quickchartButtonEl.style.display =\n",
              "        google.colab.kernel.accessAllowed ? 'block' : 'none';\n",
              "    })();\n",
              "  </script>\n",
              "</div>\n",
              "\n",
              "    </div>\n",
              "  </div>\n"
            ],
            "application/vnd.google.colaboratory.intrinsic+json": {
              "type": "dataframe",
              "summary": "{\n  \"name\": \"data\",\n  \"rows\": 8,\n  \"fields\": [\n    {\n      \"column\": \"age\",\n      \"properties\": {\n        \"dtype\": \"number\",\n        \"std\": 35149.50412970236,\n        \"min\": 14.990053791852413,\n        \"max\": 99457.0,\n        \"num_unique_values\": 8,\n        \"samples\": [\n          43.42708909377922,\n          43.0,\n          99457.0\n        ],\n        \"semantic_type\": \"\",\n        \"description\": \"\"\n      }\n    },\n    {\n      \"column\": \"quantity\",\n      \"properties\": {\n        \"dtype\": \"number\",\n        \"std\": 35162.37891392933,\n        \"min\": 1.0,\n        \"max\": 99457.0,\n        \"num_unique_values\": 8,\n        \"samples\": [\n          3.003428617392441,\n          3.0,\n          99457.0\n        ],\n        \"semantic_type\": \"\",\n        \"description\": \"\"\n      }\n    },\n    {\n      \"column\": \"price\",\n      \"properties\": {\n        \"dtype\": \"number\",\n        \"std\": 34784.47933500424,\n        \"min\": 5.23,\n        \"max\": 99457.0,\n        \"num_unique_values\": 8,\n        \"samples\": [\n          689.2563209226097,\n          203.3,\n          99457.0\n        ],\n        \"semantic_type\": \"\",\n        \"description\": \"\"\n      }\n    }\n  ]\n}"
            }
          },
          "metadata": {},
          "execution_count": 17
        }
      ]
    },
    {
      "cell_type": "code",
      "source": [
        "sns.distplot(data['price'])"
      ],
      "metadata": {
        "colab": {
          "base_uri": "https://localhost:8080/",
          "height": 657
        },
        "id": "bPF18Pneq-uj",
        "outputId": "224ac6aa-cb4b-4c92-fd9b-0e7840ad2f38"
      },
      "execution_count": 18,
      "outputs": [
        {
          "output_type": "stream",
          "name": "stderr",
          "text": [
            "<ipython-input-18-331dd13f2f56>:1: UserWarning: \n",
            "\n",
            "`distplot` is a deprecated function and will be removed in seaborn v0.14.0.\n",
            "\n",
            "Please adapt your code to use either `displot` (a figure-level function with\n",
            "similar flexibility) or `histplot` (an axes-level function for histograms).\n",
            "\n",
            "For a guide to updating your code to use the new functions, please see\n",
            "https://gist.github.com/mwaskom/de44147ed2974457ad6372750bbe5751\n",
            "\n",
            "  sns.distplot(data['price'])\n"
          ]
        },
        {
          "output_type": "execute_result",
          "data": {
            "text/plain": [
              "<Axes: xlabel='price', ylabel='Density'>"
            ]
          },
          "metadata": {},
          "execution_count": 18
        },
        {
          "output_type": "display_data",
          "data": {
            "text/plain": [
              "<Figure size 640x480 with 1 Axes>"
            ],
            "image/png": "[encoded data removed]"
          },
          "metadata": {}
        }
      ]
    },
    {
      "cell_type": "code",
      "source": [
        "sns.boxplot(data['price'])"
      ],
      "metadata": {
        "id": "XJdIvHeorJK5",
        "outputId": "144c5cdc-2d81-4dee-a9ea-725007568651",
        "colab": {
          "base_uri": "https://localhost:8080/",
          "height": 428
        }
      },
      "execution_count": 19,
      "outputs": [
        {
          "output_type": "execute_result",
          "data": {
            "text/plain": [
              "<Axes: ylabel='price'>"
            ]
          },
          "metadata": {},
          "execution_count": 19
        },
        {
          "output_type": "display_data",
          "data": {
            "text/plain": [
              "<Figure size 640x480 with 1 Axes>"
            ],
            "image/png": "[encoded data removed]"
          },
          "metadata": {}
        }
      ]
    },
    {
      "cell_type": "markdown",
      "source": [
        "**Z SCORE METHOD**"
      ],
      "metadata": {
        "id": "uUH29N_k1yH1"
      }
    },
    {
      "cell_type": "code",
      "source": [
        "#Find the limits\n",
        "top = data['price'].mean() + 3*data['price'].std()\n",
        "bot = data['price'].mean() - 3*data['price'].std()\n",
        "print('Top Limit:', top)\n",
        "print('Bottom Limit:', bot)"
      ],
      "metadata": {
        "colab": {
          "base_uri": "https://localhost:8080/"
        },
        "id": "AHZ70ww1wIra",
        "outputId": "5634b028-de31-43ee-ccca-c48ba4a27636"
      },
      "execution_count": 20,
      "outputs": [
        {
          "output_type": "stream",
          "name": "stdout",
          "text": [
            "Top Limit: 3512.810022569011\n",
            "Bottom Limit: -2134.297380723792\n"
          ]
        }
      ]
    },
    {
      "cell_type": "code",
      "source": [
        "#define the outliers\n",
        "data.loc[(data['price']> top) | (data['price'] < bot) ]"
      ],
      "metadata": {
        "colab": {
          "base_uri": "https://localhost:8080/",
          "height": 444
        },
        "id": "Pgibwkh3xzHV",
        "outputId": "37103245-cdf7-4af6-d73b-1bcb9240d571"
      },
      "execution_count": 21,
      "outputs": [
        {
          "output_type": "execute_result",
          "data": {
            "text/plain": [
              "      invoice_no customer_id  gender  age    category  quantity   price  \\\n",
              "23       I252275     C313348    Male   44  Technology         5  5250.0   \n",
              "53       I160777     C626042  Female   43  Technology         4  4200.0   \n",
              "69       I883721     C236859  Female   44  Technology         5  5250.0   \n",
              "363      I194017     C462011  Female   67  Technology         5  5250.0   \n",
              "391      I252528     C333065    Male   47  Technology         5  5250.0   \n",
              "...          ...         ...     ...  ...         ...       ...     ...   \n",
              "99204    I264904     C285285  Female   21  Technology         4  4200.0   \n",
              "99224    I378781     C324387  Female   27  Technology         5  5250.0   \n",
              "99234    I316025     C288067  Female   21  Technology         4  4200.0   \n",
              "99242    I115261     C544895  Female   40  Technology         4  4200.0   \n",
              "99455    I702964     C800631    Male   56  Technology         4  4200.0   \n",
              "\n",
              "      payment_method invoice_date     shopping_mall  \n",
              "23              Cash   26/10/2021            Kanyon  \n",
              "53              Cash   22/02/2022         Metrocity  \n",
              "69       Credit Card   19/11/2021  Mall of Istanbul  \n",
              "363             Cash     3/1/2022            Kanyon  \n",
              "391       Debit Card    4/10/2022       Cevahir AVM  \n",
              "...              ...          ...               ...  \n",
              "99204    Credit Card    6/12/2021    Forum Istanbul  \n",
              "99224    Credit Card    10/3/2022  Mall of Istanbul  \n",
              "99234           Cash   23/06/2021  Mall of Istanbul  \n",
              "99242           Cash    10/7/2022      Istinye Park  \n",
              "99455           Cash   16/03/2021      Istinye Park  \n",
              "\n",
              "[2002 rows x 10 columns]"
            ],
            "text/html": [
              "\n",
              "  <div id=\"df-bea3a862-0217-4a1e-88fd-12ca0f1d90cc\" class=\"colab-df-container\">\n",
              "    <div>\n",
              "<style scoped>\n",
              "    .dataframe tbody tr th:only-of-type {\n",
              "        vertical-align: middle;\n",
              "    }\n",
              "\n",
              "    .dataframe tbody tr th {\n",
              "        vertical-align: top;\n",
              "    }\n",
              "\n",
              "    .dataframe thead th {\n",
              "        text-align: right;\n",
              "    }\n",
              "</style>\n",
              "<table border=\"1\" class=\"dataframe\">\n",
              "  <thead>\n",
              "    <tr style=\"text-align: right;\">\n",
              "      <th></th>\n",
              "      <th>invoice_no</th>\n",
              "      <th>customer_id</th>\n",
              "      <th>gender</th>\n",
              "      <th>age</th>\n",
              "      <th>category</th>\n",
              "      <th>quantity</th>\n",
              "      <th>price</th>\n",
              "      <th>payment_method</th>\n",
              "      <th>invoice_date</th>\n",
              "      <th>shopping_mall</th>\n",
              "    </tr>\n",
              "  </thead>\n",
              "  <tbody>\n",
              "    <tr>\n",
              "      <th>23</th>\n",
              "      <td>I252275</td>\n",
              "      <td>C313348</td>\n",
              "      <td>Male</td>\n",
              "      <td>44</td>\n",
              "      <td>Technology</td>\n",
              "      <td>5</td>\n",
              "      <td>5250.0</td>\n",
              "      <td>Cash</td>\n",
              "      <td>26/10/2021</td>\n",
              "      <td>Kanyon</td>\n",
              "    </tr>\n",
              "    <tr>\n",
              "      <th>53</th>\n",
              "      <td>I160777</td>\n",
              "      <td>C626042</td>\n",
              "      <td>Female</td>\n",
              "      <td>43</td>\n",
              "      <td>Technology</td>\n",
              "      <td>4</td>\n",
              "      <td>4200.0</td>\n",
              "      <td>Cash</td>\n",
              "      <td>22/02/2022</td>\n",
              "      <td>Metrocity</td>\n",
              "    </tr>\n",
              "    <tr>\n",
              "      <th>69</th>\n",
              "      <td>I883721</td>\n",
              "      <td>C236859</td>\n",
              "      <td>Female</td>\n",
              "      <td>44</td>\n",
              "      <td>Technology</td>\n",
              "      <td>5</td>\n",
              "      <td>5250.0</td>\n",
              "      <td>Credit Card</td>\n",
              "      <td>19/11/2021</td>\n",
              "      <td>Mall of Istanbul</td>\n",
              "    </tr>\n",
              "    <tr>\n",
              "      <th>363</th>\n",
              "      <td>I194017</td>\n",
              "      <td>C462011</td>\n",
              "      <td>Female</td>\n",
              "      <td>67</td>\n",
              "      <td>Technology</td>\n",
              "      <td>5</td>\n",
              "      <td>5250.0</td>\n",
              "      <td>Cash</td>\n",
              "      <td>3/1/2022</td>\n",
              "      <td>Kanyon</td>\n",
              "    </tr>\n",
              "    <tr>\n",
              "      <th>391</th>\n",
              "      <td>I252528</td>\n",
              "      <td>C333065</td>\n",
              "      <td>Male</td>\n",
              "      <td>47</td>\n",
              "      <td>Technology</td>\n",
              "      <td>5</td>\n",
              "      <td>5250.0</td>\n",
              "      <td>Debit Card</td>\n",
              "      <td>4/10/2022</td>\n",
              "      <td>Cevahir AVM</td>\n",
              "    </tr>\n",
              "    <tr>\n",
              "      <th>...</th>\n",
              "      <td>...</td>\n",
              "      <td>...</td>\n",
              "      <td>...</td>\n",
              "      <td>...</td>\n",
              "      <td>...</td>\n",
              "      <td>...</td>\n",
              "      <td>...</td>\n",
              "      <td>...</td>\n",
              "      <td>...</td>\n",
              "      <td>...</td>\n",
              "    </tr>\n",
              "    <tr>\n",
              "      <th>99204</th>\n",
              "      <td>I264904</td>\n",
              "      <td>C285285</td>\n",
              "      <td>Female</td>\n",
              "      <td>21</td>\n",
              "      <td>Technology</td>\n",
              "      <td>4</td>\n",
              "      <td>4200.0</td>\n",
              "      <td>Credit Card</td>\n",
              "      <td>6/12/2021</td>\n",
              "      <td>Forum Istanbul</td>\n",
              "    </tr>\n",
              "    <tr>\n",
              "      <th>99224</th>\n",
              "      <td>I378781</td>\n",
              "      <td>C324387</td>\n",
              "      <td>Female</td>\n",
              "      <td>27</td>\n",
              "      <td>Technology</td>\n",
              "      <td>5</td>\n",
              "      <td>5250.0</td>\n",
              "      <td>Credit Card</td>\n",
              "      <td>10/3/2022</td>\n",
              "      <td>Mall of Istanbul</td>\n",
              "    </tr>\n",
              "    <tr>\n",
              "      <th>99234</th>\n",
              "      <td>I316025</td>\n",
              "      <td>C288067</td>\n",
              "      <td>Female</td>\n",
              "      <td>21</td>\n",
              "      <td>Technology</td>\n",
              "      <td>4</td>\n",
              "      <td>4200.0</td>\n",
              "      <td>Cash</td>\n",
              "      <td>23/06/2021</td>\n",
              "      <td>Mall of Istanbul</td>\n",
              "    </tr>\n",
              "    <tr>\n",
              "      <th>99242</th>\n",
              "      <td>I115261</td>\n",
              "      <td>C544895</td>\n",
              "      <td>Female</td>\n",
              "      <td>40</td>\n",
              "      <td>Technology</td>\n",
              "      <td>4</td>\n",
              "      <td>4200.0</td>\n",
              "      <td>Cash</td>\n",
              "      <td>10/7/2022</td>\n",
              "      <td>Istinye Park</td>\n",
              "    </tr>\n",
              "    <tr>\n",
              "      <th>99455</th>\n",
              "      <td>I702964</td>\n",
              "      <td>C800631</td>\n",
              "      <td>Male</td>\n",
              "      <td>56</td>\n",
              "      <td>Technology</td>\n",
              "      <td>4</td>\n",
              "      <td>4200.0</td>\n",
              "      <td>Cash</td>\n",
              "      <td>16/03/2021</td>\n",
              "      <td>Istinye Park</td>\n",
              "    </tr>\n",
              "  </tbody>\n",
              "</table>\n",
              "<p>2002 rows × 10 columns</p>\n",
              "</div>\n",
              "    <div class=\"colab-df-buttons\">\n",
              "\n",
              "  <div class=\"colab-df-container\">\n",
              "    <button class=\"colab-df-convert\" onclick=\"convertToInteractive('df-bea3a862-0217-4a1e-88fd-12ca0f1d90cc')\"\n",
              "            title=\"Convert this dataframe to an interactive table.\"\n",
              "            style=\"display:none;\">\n",
              "\n",
              "  <svg xmlns=\"http://www.w3.org/2000/svg\" height=\"24px\" viewBox=\"0 -960 960 960\">\n",
              "    <path d=\"M120-120v-720h720v720H120Zm60-500h600v-160H180v160Zm220 220h160v-160H400v160Zm0 220h160v-160H400v160ZM180-400h160v-160H180v160Zm440 0h160v-160H620v160ZM180-180h160v-160H180v160Zm440 0h160v-160H620v160Z\"/>\n",
              "  </svg>\n",
              "    </button>\n",
              "\n",
              "  <style>\n",
              "    .colab-df-container {\n",
              "      display:flex;\n",
              "      gap: 12px;\n",
              "    }\n",
              "\n",
              "    .colab-df-convert {\n",
              "      background-color: #E8F0FE;\n",
              "      border: none;\n",
              "      border-radius: 50%;\n",
              "      cursor: pointer;\n",
              "      display: none;\n",
              "      fill: #1967D2;\n",
              "      height: 32px;\n",
              "      padding: 0 0 0 0;\n",
              "      width: 32px;\n",
              "    }\n",
              "\n",
              "    .colab-df-convert:hover {\n",
              "      background-color: #E2EBFA;\n",
              "      box-shadow: 0px 1px 2px rgba(60, 64, 67, 0.3), 0px 1px 3px 1px rgba(60, 64, 67, 0.15);\n",
              "      fill: #174EA6;\n",
              "    }\n",
              "\n",
              "    .colab-df-buttons div {\n",
              "      margin-bottom: 4px;\n",
              "    }\n",
              "\n",
              "    [theme=dark] .colab-df-convert {\n",
              "      background-color: #3B4455;\n",
              "      fill: #D2E3FC;\n",
              "    }\n",
              "\n",
              "    [theme=dark] .colab-df-convert:hover {\n",
              "      background-color: #434B5C;\n",
              "      box-shadow: 0px 1px 3px 1px rgba(0, 0, 0, 0.15);\n",
              "      filter: drop-shadow(0px 1px 2px rgba(0, 0, 0, 0.3));\n",
              "      fill: #FFFFFF;\n",
              "    }\n",
              "  </style>\n",
              "\n",
              "    <script>\n",
              "      const buttonEl =\n",
              "        document.querySelector('#df-bea3a862-0217-4a1e-88fd-12ca0f1d90cc button.colab-df-convert');\n",
              "      buttonEl.style.display =\n",
              "        google.colab.kernel.accessAllowed ? 'block' : 'none';\n",
              "\n",
              "      async function convertToInteractive(key) {\n",
              "        const element = document.querySelector('#df-bea3a862-0217-4a1e-88fd-12ca0f1d90cc');\n",
              "        const dataTable =\n",
              "          await google.colab.kernel.invokeFunction('convertToInteractive',\n",
              "                                                    [key], {});\n",
              "        if (!dataTable) return;\n",
              "\n",
              "        const docLinkHtml = 'Like what you see? Visit the ' +\n",
              "          '<a target=\"_blank\" href=https://colab.research.google.com/notebooks/data_table.ipynb>data table notebook</a>'\n",
              "          + ' to learn more about interactive tables.';\n",
              "        element.innerHTML = '';\n",
              "        dataTable['output_type'] = 'display_data';\n",
              "        await google.colab.output.renderOutput(dataTable, element);\n",
              "        const docLink = document.createElement('div');\n",
              "        docLink.innerHTML = docLinkHtml;\n",
              "        element.appendChild(docLink);\n",
              "      }\n",
              "    </script>\n",
              "  </div>\n",
              "\n",
              "\n",
              "<div id=\"df-ed9f4a61-65be-4a3a-9e75-c9aa90dbd0ba\">\n",
              "  <button class=\"colab-df-quickchart\" onclick=\"quickchart('df-ed9f4a61-65be-4a3a-9e75-c9aa90dbd0ba')\"\n",
              "            title=\"Suggest charts\"\n",
              "            style=\"display:none;\">\n",
              "\n",
              "<svg xmlns=\"http://www.w3.org/2000/svg\" height=\"24px\"viewBox=\"0 0 24 24\"\n",
              "     width=\"24px\">\n",
              "    <g>\n",
              "        <path d=\"M19 3H5c-1.1 0-2 .9-2 2v14c0 1.1.9 2 2 2h14c1.1 0 2-.9 2-2V5c0-1.1-.9-2-2-2zM9 17H7v-7h2v7zm4 0h-2V7h2v10zm4 0h-2v-4h2v4z\"/>\n",
              "    </g>\n",
              "</svg>\n",
              "  </button>\n",
              "\n",
              "<style>\n",
              "  .colab-df-quickchart {\n",
              "      --bg-color: #E8F0FE;\n",
              "      --fill-color: #1967D2;\n",
              "      --hover-bg-color: #E2EBFA;\n",
              "      --hover-fill-color: #174EA6;\n",
              "      --disabled-fill-color: #AAA;\n",
              "      --disabled-bg-color: #DDD;\n",
              "  }\n",
              "\n",
              "  [theme=dark] .colab-df-quickchart {\n",
              "      --bg-color: #3B4455;\n",
              "      --fill-color: #D2E3FC;\n",
              "      --hover-bg-color: #434B5C;\n",
              "      --hover-fill-color: #FFFFFF;\n",
              "      --disabled-bg-color: #3B4455;\n",
              "      --disabled-fill-color: #666;\n",
              "  }\n",
              "\n",
              "  .colab-df-quickchart {\n",
              "    background-color: var(--bg-color);\n",
              "    border: none;\n",
              "    border-radius: 50%;\n",
              "    cursor: pointer;\n",
              "    display: none;\n",
              "    fill: var(--fill-color);\n",
              "    height: 32px;\n",
              "    padding: 0;\n",
              "    width: 32px;\n",
              "  }\n",
              "\n",
              "  .colab-df-quickchart:hover {\n",
              "    background-color: var(--hover-bg-color);\n",
              "    box-shadow: 0 1px 2px rgba(60, 64, 67, 0.3), 0 1px 3px 1px rgba(60, 64, 67, 0.15);\n",
              "    fill: var(--button-hover-fill-color);\n",
              "  }\n",
              "\n",
              "  .colab-df-quickchart-complete:disabled,\n",
              "  .colab-df-quickchart-complete:disabled:hover {\n",
              "    background-color: var(--disabled-bg-color);\n",
              "    fill: var(--disabled-fill-color);\n",
              "    box-shadow: none;\n",
              "  }\n",
              "\n",
              "  .colab-df-spinner {\n",
              "    border: 2px solid var(--fill-color);\n",
              "    border-color: transparent;\n",
              "    border-bottom-color: var(--fill-color);\n",
              "    animation:\n",
              "      spin 1s steps(1) infinite;\n",
              "  }\n",
              "\n",
              "  @keyframes spin {\n",
              "    0% {\n",
              "      border-color: transparent;\n",
              "      border-bottom-color: var(--fill-color);\n",
              "      border-left-color: var(--fill-color);\n",
              "    }\n",
              "    20% {\n",
              "      border-color: transparent;\n",
              "      border-left-color: var(--fill-color);\n",
              "      border-top-color: var(--fill-color);\n",
              "    }\n",
              "    30% {\n",
              "      border-color: transparent;\n",
              "      border-left-color: var(--fill-color);\n",
              "      border-top-color: var(--fill-color);\n",
              "      border-right-color: var(--fill-color);\n",
              "    }\n",
              "    40% {\n",
              "      border-color: transparent;\n",
              "      border-right-color: var(--fill-color);\n",
              "      border-top-color: var(--fill-color);\n",
              "    }\n",
              "    60% {\n",
              "      border-color: transparent;\n",
              "      border-right-color: var(--fill-color);\n",
              "    }\n",
              "    80% {\n",
              "      border-color: transparent;\n",
              "      border-right-color: var(--fill-color);\n",
              "      border-bottom-color: var(--fill-color);\n",
              "    }\n",
              "    90% {\n",
              "      border-color: transparent;\n",
              "      border-bottom-color: var(--fill-color);\n",
              "    }\n",
              "  }\n",
              "</style>\n",
              "\n",
              "  <script>\n",
              "    async function quickchart(key) {\n",
              "      const quickchartButtonEl =\n",
              "        document.querySelector('#' + key + ' button');\n",
              "      quickchartButtonEl.disabled = true;  // To prevent multiple clicks.\n",
              "      quickchartButtonEl.classList.add('colab-df-spinner');\n",
              "      try {\n",
              "        const charts = await google.colab.kernel.invokeFunction(\n",
              "            'suggestCharts', [key], {});\n",
              "      } catch (error) {\n",
              "        console.error('Error during call to suggestCharts:', error);\n",
              "      }\n",
              "      quickchartButtonEl.classList.remove('colab-df-spinner');\n",
              "      quickchartButtonEl.classList.add('colab-df-quickchart-complete');\n",
              "    }\n",
              "    (() => {\n",
              "      let quickchartButtonEl =\n",
              "        document.querySelector('#df-ed9f4a61-65be-4a3a-9e75-c9aa90dbd0ba button');\n",
              "      quickchartButtonEl.style.display =\n",
              "        google.colab.kernel.accessAllowed ? 'block' : 'none';\n",
              "    })();\n",
              "  </script>\n",
              "</div>\n",
              "\n",
              "    </div>\n",
              "  </div>\n"
            ],
            "application/vnd.google.colaboratory.intrinsic+json": {
              "type": "dataframe",
              "repr_error": "0"
            }
          },
          "metadata": {},
          "execution_count": 21
        }
      ]
    },
    {
      "cell_type": "code",
      "source": [
        "#Trimming the outliers\n",
        "new_data= data.loc[(data['price']< top) & (data['price'] > bot) ]\n",
        "print('Before Trimming:', len(data))\n",
        "print('After Trimming:', len(new_data))\n",
        "print('Outliers that removed:', len(data)-len(new_data))"
      ],
      "metadata": {
        "colab": {
          "base_uri": "https://localhost:8080/"
        },
        "id": "RGf4yGRJzf2i",
        "outputId": "1df10f03-89eb-4615-d892-f460a20d702b"
      },
      "execution_count": 23,
      "outputs": [
        {
          "output_type": "stream",
          "name": "stdout",
          "text": [
            "Before Trimming: 99457\n",
            "After Trimming: 97455\n",
            "Outliers that removed: 2002\n"
          ]
        }
      ]
    },
    {
      "cell_type": "code",
      "source": [
        "sns.boxplot(new_data['price'])"
      ],
      "metadata": {
        "colab": {
          "base_uri": "https://localhost:8080/",
          "height": 428
        },
        "id": "Y3-OjAYw0bxL",
        "outputId": "62c5c490-085a-46c6-80dd-260517f79134"
      },
      "execution_count": 24,
      "outputs": [
        {
          "output_type": "execute_result",
          "data": {
            "text/plain": [
              "<Axes: ylabel='price'>"
            ]
          },
          "metadata": {},
          "execution_count": 24
        },
        {
          "output_type": "display_data",
          "data": {
            "text/plain": [
              "<Figure size 640x480 with 1 Axes>"
            ],
            "image/png": "[encoded data removed]"
          },
          "metadata": {}
        }
      ]
    },
    {
      "cell_type": "code",
      "source": [
        "#Capping Outliers\n",
        "new_data= data.copy()\n",
        "new_data.loc[new_data['price']>top, 'price'] = top\n",
        "new_data.loc[new_data['price']<bot, 'price'] = bot"
      ],
      "metadata": {
        "id": "8hDdcwkt0qKh"
      },
      "execution_count": 26,
      "outputs": []
    },
    {
      "cell_type": "code",
      "source": [
        "sns.boxplot(new_data['price'])"
      ],
      "metadata": {
        "colab": {
          "base_uri": "https://localhost:8080/",
          "height": 428
        },
        "id": "GBJ4iiIU1TZe",
        "outputId": "0e463f96-c81a-4ae3-f029-64461b24ee06"
      },
      "execution_count": 27,
      "outputs": [
        {
          "output_type": "execute_result",
          "data": {
            "text/plain": [
              "<Axes: ylabel='price'>"
            ]
          },
          "metadata": {},
          "execution_count": 27
        },
        {
          "output_type": "display_data",
          "data": {
            "text/plain": [
              "<Figure size 640x480 with 1 Axes>"
            ],
            "image/png": "[encoded data removed]"
          },
          "metadata": {}
        }
      ]
    },
    {
      "cell_type": "code",
      "source": [
        "len(new_data)"
      ],
      "metadata": {
        "colab": {
          "base_uri": "https://localhost:8080/"
        },
        "id": "Us0mUUYx1bYs",
        "outputId": "867ed9f7-e870-4726-bb45-d12e683e871b"
      },
      "execution_count": 28,
      "outputs": [
        {
          "output_type": "execute_result",
          "data": {
            "text/plain": [
              "99457"
            ]
          },
          "metadata": {},
          "execution_count": 28
        }
      ]
    },
    {
      "cell_type": "markdown",
      "source": [
        "**IQR METHOD**"
      ],
      "metadata": {
        "id": "BUNWxV3E19UV"
      }
    },
    {
      "cell_type": "code",
      "source": [
        "#define the quantile\n",
        "Q1 = data['price'].quantile(.25)\n",
        "Q3 = data['price'].quantile(.75)\n",
        "IQR = Q3 - Q1"
      ],
      "metadata": {
        "id": "xOE9whAj1tYU"
      },
      "execution_count": 29,
      "outputs": []
    },
    {
      "cell_type": "code",
      "source": [
        "#Quantile area\n",
        "Q1, Q3, IQR"
      ],
      "metadata": {
        "colab": {
          "base_uri": "https://localhost:8080/"
        },
        "id": "RQYt9Pbm2S5X",
        "outputId": "4a682db5-ddec-4cf1-944b-5fc54db5867e"
      },
      "execution_count": 31,
      "outputs": [
        {
          "output_type": "execute_result",
          "data": {
            "text/plain": [
              "(45.45, 1200.32, 1154.87)"
            ]
          },
          "metadata": {},
          "execution_count": 31
        }
      ]
    },
    {
      "cell_type": "code",
      "source": [
        "#define the limit\n",
        "top = Q3 + (1.5*IQR)\n",
        "bot = Q1 - (1.5*IQR)\n",
        "bot, top"
      ],
      "metadata": {
        "colab": {
          "base_uri": "https://localhost:8080/"
        },
        "id": "UsOZenBy2ebT",
        "outputId": "4d30ef0d-edc9-4615-b6f7-54753e0a2341"
      },
      "execution_count": 32,
      "outputs": [
        {
          "output_type": "execute_result",
          "data": {
            "text/plain": [
              "(-1686.8549999999998, 2932.625)"
            ]
          },
          "metadata": {},
          "execution_count": 32
        }
      ]
    },
    {
      "cell_type": "code",
      "source": [
        "sns.boxplot(data['price'])"
      ],
      "metadata": {
        "colab": {
          "base_uri": "https://localhost:8080/",
          "height": 428
        },
        "id": "wGI30duJ28Rf",
        "outputId": "531753f1-3e31-468d-9980-508bd2aa570f"
      },
      "execution_count": 33,
      "outputs": [
        {
          "output_type": "execute_result",
          "data": {
            "text/plain": [
              "<Axes: ylabel='price'>"
            ]
          },
          "metadata": {},
          "execution_count": 33
        },
        {
          "output_type": "display_data",
          "data": {
            "text/plain": [
              "<Figure size 640x480 with 1 Axes>"
            ],
            "image/png": "[encoded data removed]"
          },
          "metadata": {}
        }
      ]
    },
    {
      "cell_type": "code",
      "source": [
        "#define the outliers\n",
        "data.loc[(data['price']> top) | (data['price'] < bot) ]"
      ],
      "metadata": {
        "colab": {
          "base_uri": "https://localhost:8080/",
          "height": 444
        },
        "id": "74-so8Uc3AMe",
        "outputId": "4c273c18-5a19-4964-d09e-7742f51ed517"
      },
      "execution_count": 34,
      "outputs": [
        {
          "output_type": "execute_result",
          "data": {
            "text/plain": [
              "      invoice_no customer_id  gender  age    category  quantity    price  \\\n",
              "3        I173702     C988172  Female   66       Shoes         5  3000.85   \n",
              "15       I688768     C362288    Male   24       Shoes         5  3000.85   \n",
              "23       I252275     C313348    Male   44  Technology         5  5250.00   \n",
              "53       I160777     C626042  Female   43  Technology         4  4200.00   \n",
              "69       I883721     C236859  Female   44  Technology         5  5250.00   \n",
              "...          ...         ...     ...  ...         ...       ...      ...   \n",
              "99332    I206967     C232954  Female   53       Shoes         5  3000.85   \n",
              "99374    I221532     C956894    Male   36  Technology         3  3150.00   \n",
              "99387    I429361     C258359    Male   33  Technology         3  3150.00   \n",
              "99424    I549710     C541824  Female   34  Technology         3  3150.00   \n",
              "99455    I702964     C800631    Male   56  Technology         4  4200.00   \n",
              "\n",
              "      payment_method invoice_date     shopping_mall  \n",
              "3        Credit Card   16/05/2021      Metropol AVM  \n",
              "15       Credit Card    7/11/2021    Viaport Outlet  \n",
              "23              Cash   26/10/2021            Kanyon  \n",
              "53              Cash   22/02/2022         Metrocity  \n",
              "69       Credit Card   19/11/2021  Mall of Istanbul  \n",
              "...              ...          ...               ...  \n",
              "99332    Credit Card   13/03/2022         Metrocity  \n",
              "99374    Credit Card   24/12/2021      Metropol AVM  \n",
              "99387    Credit Card     1/8/2022            Kanyon  \n",
              "99424           Cash   13/01/2021         Metrocity  \n",
              "99455           Cash   16/03/2021      Istinye Park  \n",
              "\n",
              "[5024 rows x 10 columns]"
            ],
            "text/html": [
              "\n",
              "  <div id=\"df-fef8fb86-9cb4-472e-a422-fca6090f37c5\" class=\"colab-df-container\">\n",
              "    <div>\n",
              "<style scoped>\n",
              "    .dataframe tbody tr th:only-of-type {\n",
              "        vertical-align: middle;\n",
              "    }\n",
              "\n",
              "    .dataframe tbody tr th {\n",
              "        vertical-align: top;\n",
              "    }\n",
              "\n",
              "    .dataframe thead th {\n",
              "        text-align: right;\n",
              "    }\n",
              "</style>\n",
              "<table border=\"1\" class=\"dataframe\">\n",
              "  <thead>\n",
              "    <tr style=\"text-align: right;\">\n",
              "      <th></th>\n",
              "      <th>invoice_no</th>\n",
              "      <th>customer_id</th>\n",
              "      <th>gender</th>\n",
              "      <th>age</th>\n",
              "      <th>category</th>\n",
              "      <th>quantity</th>\n",
              "      <th>price</th>\n",
              "      <th>payment_method</th>\n",
              "      <th>invoice_date</th>\n",
              "      <th>shopping_mall</th>\n",
              "    </tr>\n",
              "  </thead>\n",
              "  <tbody>\n",
              "    <tr>\n",
              "      <th>3</th>\n",
              "      <td>I173702</td>\n",
              "      <td>C988172</td>\n",
              "      <td>Female</td>\n",
              "      <td>66</td>\n",
              "      <td>Shoes</td>\n",
              "      <td>5</td>\n",
              "      <td>3000.85</td>\n",
              "      <td>Credit Card</td>\n",
              "      <td>16/05/2021</td>\n",
              "      <td>Metropol AVM</td>\n",
              "    </tr>\n",
              "    <tr>\n",
              "      <th>15</th>\n",
              "      <td>I688768</td>\n",
              "      <td>C362288</td>\n",
              "      <td>Male</td>\n",
              "      <td>24</td>\n",
              "      <td>Shoes</td>\n",
              "      <td>5</td>\n",
              "      <td>3000.85</td>\n",
              "      <td>Credit Card</td>\n",
              "      <td>7/11/2021</td>\n",
              "      <td>Viaport Outlet</td>\n",
              "    </tr>\n",
              "    <tr>\n",
              "      <th>23</th>\n",
              "      <td>I252275</td>\n",
              "      <td>C313348</td>\n",
              "      <td>Male</td>\n",
              "      <td>44</td>\n",
              "      <td>Technology</td>\n",
              "      <td>5</td>\n",
              "      <td>5250.00</td>\n",
              "      <td>Cash</td>\n",
              "      <td>26/10/2021</td>\n",
              "      <td>Kanyon</td>\n",
              "    </tr>\n",
              "    <tr>\n",
              "      <th>53</th>\n",
              "      <td>I160777</td>\n",
              "      <td>C626042</td>\n",
              "      <td>Female</td>\n",
              "      <td>43</td>\n",
              "      <td>Technology</td>\n",
              "      <td>4</td>\n",
              "      <td>4200.00</td>\n",
              "      <td>Cash</td>\n",
              "      <td>22/02/2022</td>\n",
              "      <td>Metrocity</td>\n",
              "    </tr>\n",
              "    <tr>\n",
              "      <th>69</th>\n",
              "      <td>I883721</td>\n",
              "      <td>C236859</td>\n",
              "      <td>Female</td>\n",
              "      <td>44</td>\n",
              "      <td>Technology</td>\n",
              "      <td>5</td>\n",
              "      <td>5250.00</td>\n",
              "      <td>Credit Card</td>\n",
              "      <td>19/11/2021</td>\n",
              "      <td>Mall of Istanbul</td>\n",
              "    </tr>\n",
              "    <tr>\n",
              "      <th>...</th>\n",
              "      <td>...</td>\n",
              "      <td>...</td>\n",
              "      <td>...</td>\n",
              "      <td>...</td>\n",
              "      <td>...</td>\n",
              "      <td>...</td>\n",
              "      <td>...</td>\n",
              "      <td>...</td>\n",
              "      <td>...</td>\n",
              "      <td>...</td>\n",
              "    </tr>\n",
              "    <tr>\n",
              "      <th>99332</th>\n",
              "      <td>I206967</td>\n",
              "      <td>C232954</td>\n",
              "      <td>Female</td>\n",
              "      <td>53</td>\n",
              "      <td>Shoes</td>\n",
              "      <td>5</td>\n",
              "      <td>3000.85</td>\n",
              "      <td>Credit Card</td>\n",
              "      <td>13/03/2022</td>\n",
              "      <td>Metrocity</td>\n",
              "    </tr>\n",
              "    <tr>\n",
              "      <th>99374</th>\n",
              "      <td>I221532</td>\n",
              "      <td>C956894</td>\n",
              "      <td>Male</td>\n",
              "      <td>36</td>\n",
              "      <td>Technology</td>\n",
              "      <td>3</td>\n",
              "      <td>3150.00</td>\n",
              "      <td>Credit Card</td>\n",
              "      <td>24/12/2021</td>\n",
              "      <td>Metropol AVM</td>\n",
              "    </tr>\n",
              "    <tr>\n",
              "      <th>99387</th>\n",
              "      <td>I429361</td>\n",
              "      <td>C258359</td>\n",
              "      <td>Male</td>\n",
              "      <td>33</td>\n",
              "      <td>Technology</td>\n",
              "      <td>3</td>\n",
              "      <td>3150.00</td>\n",
              "      <td>Credit Card</td>\n",
              "      <td>1/8/2022</td>\n",
              "      <td>Kanyon</td>\n",
              "    </tr>\n",
              "    <tr>\n",
              "      <th>99424</th>\n",
              "      <td>I549710</td>\n",
              "      <td>C541824</td>\n",
              "      <td>Female</td>\n",
              "      <td>34</td>\n",
              "      <td>Technology</td>\n",
              "      <td>3</td>\n",
              "      <td>3150.00</td>\n",
              "      <td>Cash</td>\n",
              "      <td>13/01/2021</td>\n",
              "      <td>Metrocity</td>\n",
              "    </tr>\n",
              "    <tr>\n",
              "      <th>99455</th>\n",
              "      <td>I702964</td>\n",
              "      <td>C800631</td>\n",
              "      <td>Male</td>\n",
              "      <td>56</td>\n",
              "      <td>Technology</td>\n",
              "      <td>4</td>\n",
              "      <td>4200.00</td>\n",
              "      <td>Cash</td>\n",
              "      <td>16/03/2021</td>\n",
              "      <td>Istinye Park</td>\n",
              "    </tr>\n",
              "  </tbody>\n",
              "</table>\n",
              "<p>5024 rows × 10 columns</p>\n",
              "</div>\n",
              "    <div class=\"colab-df-buttons\">\n",
              "\n",
              "  <div class=\"colab-df-container\">\n",
              "    <button class=\"colab-df-convert\" onclick=\"convertToInteractive('df-fef8fb86-9cb4-472e-a422-fca6090f37c5')\"\n",
              "            title=\"Convert this dataframe to an interactive table.\"\n",
              "            style=\"display:none;\">\n",
              "\n",
              "  <svg xmlns=\"http://www.w3.org/2000/svg\" height=\"24px\" viewBox=\"0 -960 960 960\">\n",
              "    <path d=\"M120-120v-720h720v720H120Zm60-500h600v-160H180v160Zm220 220h160v-160H400v160Zm0 220h160v-160H400v160ZM180-400h160v-160H180v160Zm440 0h160v-160H620v160ZM180-180h160v-160H180v160Zm440 0h160v-160H620v160Z\"/>\n",
              "  </svg>\n",
              "    </button>\n",
              "\n",
              "  <style>\n",
              "    .colab-df-container {\n",
              "      display:flex;\n",
              "      gap: 12px;\n",
              "    }\n",
              "\n",
              "    .colab-df-convert {\n",
              "      background-color: #E8F0FE;\n",
              "      border: none;\n",
              "      border-radius: 50%;\n",
              "      cursor: pointer;\n",
              "      display: none;\n",
              "      fill: #1967D2;\n",
              "      height: 32px;\n",
              "      padding: 0 0 0 0;\n",
              "      width: 32px;\n",
              "    }\n",
              "\n",
              "    .colab-df-convert:hover {\n",
              "      background-color: #E2EBFA;\n",
              "      box-shadow: 0px 1px 2px rgba(60, 64, 67, 0.3), 0px 1px 3px 1px rgba(60, 64, 67, 0.15);\n",
              "      fill: #174EA6;\n",
              "    }\n",
              "\n",
              "    .colab-df-buttons div {\n",
              "      margin-bottom: 4px;\n",
              "    }\n",
              "\n",
              "    [theme=dark] .colab-df-convert {\n",
              "      background-color: #3B4455;\n",
              "      fill: #D2E3FC;\n",
              "    }\n",
              "\n",
              "    [theme=dark] .colab-df-convert:hover {\n",
              "      background-color: #434B5C;\n",
              "      box-shadow: 0px 1px 3px 1px rgba(0, 0, 0, 0.15);\n",
              "      filter: drop-shadow(0px 1px 2px rgba(0, 0, 0, 0.3));\n",
              "      fill: #FFFFFF;\n",
              "    }\n",
              "  </style>\n",
              "\n",
              "    <script>\n",
              "      const buttonEl =\n",
              "        document.querySelector('#df-fef8fb86-9cb4-472e-a422-fca6090f37c5 button.colab-df-convert');\n",
              "      buttonEl.style.display =\n",
              "        google.colab.kernel.accessAllowed ? 'block' : 'none';\n",
              "\n",
              "      async function convertToInteractive(key) {\n",
              "        const element = document.querySelector('#df-fef8fb86-9cb4-472e-a422-fca6090f37c5');\n",
              "        const dataTable =\n",
              "          await google.colab.kernel.invokeFunction('convertToInteractive',\n",
              "                                                    [key], {});\n",
              "        if (!dataTable) return;\n",
              "\n",
              "        const docLinkHtml = 'Like what you see? Visit the ' +\n",
              "          '<a target=\"_blank\" href=https://colab.research.google.com/notebooks/data_table.ipynb>data table notebook</a>'\n",
              "          + ' to learn more about interactive tables.';\n",
              "        element.innerHTML = '';\n",
              "        dataTable['output_type'] = 'display_data';\n",
              "        await google.colab.output.renderOutput(dataTable, element);\n",
              "        const docLink = document.createElement('div');\n",
              "        docLink.innerHTML = docLinkHtml;\n",
              "        element.appendChild(docLink);\n",
              "      }\n",
              "    </script>\n",
              "  </div>\n",
              "\n",
              "\n",
              "<div id=\"df-146db488-999e-451c-bcbc-c5cf80778f40\">\n",
              "  <button class=\"colab-df-quickchart\" onclick=\"quickchart('df-146db488-999e-451c-bcbc-c5cf80778f40')\"\n",
              "            title=\"Suggest charts\"\n",
              "            style=\"display:none;\">\n",
              "\n",
              "<svg xmlns=\"http://www.w3.org/2000/svg\" height=\"24px\"viewBox=\"0 0 24 24\"\n",
              "     width=\"24px\">\n",
              "    <g>\n",
              "        <path d=\"M19 3H5c-1.1 0-2 .9-2 2v14c0 1.1.9 2 2 2h14c1.1 0 2-.9 2-2V5c0-1.1-.9-2-2-2zM9 17H7v-7h2v7zm4 0h-2V7h2v10zm4 0h-2v-4h2v4z\"/>\n",
              "    </g>\n",
              "</svg>\n",
              "  </button>\n",
              "\n",
              "<style>\n",
              "  .colab-df-quickchart {\n",
              "      --bg-color: #E8F0FE;\n",
              "      --fill-color: #1967D2;\n",
              "      --hover-bg-color: #E2EBFA;\n",
              "      --hover-fill-color: #174EA6;\n",
              "      --disabled-fill-color: #AAA;\n",
              "      --disabled-bg-color: #DDD;\n",
              "  }\n",
              "\n",
              "  [theme=dark] .colab-df-quickchart {\n",
              "      --bg-color: #3B4455;\n",
              "      --fill-color: #D2E3FC;\n",
              "      --hover-bg-color: #434B5C;\n",
              "      --hover-fill-color: #FFFFFF;\n",
              "      --disabled-bg-color: #3B4455;\n",
              "      --disabled-fill-color: #666;\n",
              "  }\n",
              "\n",
              "  .colab-df-quickchart {\n",
              "    background-color: var(--bg-color);\n",
              "    border: none;\n",
              "    border-radius: 50%;\n",
              "    cursor: pointer;\n",
              "    display: none;\n",
              "    fill: var(--fill-color);\n",
              "    height: 32px;\n",
              "    padding: 0;\n",
              "    width: 32px;\n",
              "  }\n",
              "\n",
              "  .colab-df-quickchart:hover {\n",
              "    background-color: var(--hover-bg-color);\n",
              "    box-shadow: 0 1px 2px rgba(60, 64, 67, 0.3), 0 1px 3px 1px rgba(60, 64, 67, 0.15);\n",
              "    fill: var(--button-hover-fill-color);\n",
              "  }\n",
              "\n",
              "  .colab-df-quickchart-complete:disabled,\n",
              "  .colab-df-quickchart-complete:disabled:hover {\n",
              "    background-color: var(--disabled-bg-color);\n",
              "    fill: var(--disabled-fill-color);\n",
              "    box-shadow: none;\n",
              "  }\n",
              "\n",
              "  .colab-df-spinner {\n",
              "    border: 2px solid var(--fill-color);\n",
              "    border-color: transparent;\n",
              "    border-bottom-color: var(--fill-color);\n",
              "    animation:\n",
              "      spin 1s steps(1) infinite;\n",
              "  }\n",
              "\n",
              "  @keyframes spin {\n",
              "    0% {\n",
              "      border-color: transparent;\n",
              "      border-bottom-color: var(--fill-color);\n",
              "      border-left-color: var(--fill-color);\n",
              "    }\n",
              "    20% {\n",
              "      border-color: transparent;\n",
              "      border-left-color: var(--fill-color);\n",
              "      border-top-color: var(--fill-color);\n",
              "    }\n",
              "    30% {\n",
              "      border-color: transparent;\n",
              "      border-left-color: var(--fill-color);\n",
              "      border-top-color: var(--fill-color);\n",
              "      border-right-color: var(--fill-color);\n",
              "    }\n",
              "    40% {\n",
              "      border-color: transparent;\n",
              "      border-right-color: var(--fill-color);\n",
              "      border-top-color: var(--fill-color);\n",
              "    }\n",
              "    60% {\n",
              "      border-color: transparent;\n",
              "      border-right-color: var(--fill-color);\n",
              "    }\n",
              "    80% {\n",
              "      border-color: transparent;\n",
              "      border-right-color: var(--fill-color);\n",
              "      border-bottom-color: var(--fill-color);\n",
              "    }\n",
              "    90% {\n",
              "      border-color: transparent;\n",
              "      border-bottom-color: var(--fill-color);\n",
              "    }\n",
              "  }\n",
              "</style>\n",
              "\n",
              "  <script>\n",
              "    async function quickchart(key) {\n",
              "      const quickchartButtonEl =\n",
              "        document.querySelector('#' + key + ' button');\n",
              "      quickchartButtonEl.disabled = true;  // To prevent multiple clicks.\n",
              "      quickchartButtonEl.classList.add('colab-df-spinner');\n",
              "      try {\n",
              "        const charts = await google.colab.kernel.invokeFunction(\n",
              "            'suggestCharts', [key], {});\n",
              "      } catch (error) {\n",
              "        console.error('Error during call to suggestCharts:', error);\n",
              "      }\n",
              "      quickchartButtonEl.classList.remove('colab-df-spinner');\n",
              "      quickchartButtonEl.classList.add('colab-df-quickchart-complete');\n",
              "    }\n",
              "    (() => {\n",
              "      let quickchartButtonEl =\n",
              "        document.querySelector('#df-146db488-999e-451c-bcbc-c5cf80778f40 button');\n",
              "      quickchartButtonEl.style.display =\n",
              "        google.colab.kernel.accessAllowed ? 'block' : 'none';\n",
              "    })();\n",
              "  </script>\n",
              "</div>\n",
              "\n",
              "    </div>\n",
              "  </div>\n"
            ],
            "application/vnd.google.colaboratory.intrinsic+json": {
              "type": "dataframe",
              "repr_error": "0"
            }
          },
          "metadata": {},
          "execution_count": 34
        }
      ]
    },
    {
      "cell_type": "code",
      "source": [
        "#trimming outliers\n",
        "new_data= data.loc[(data['price']< top) & (data['price'] > bot) ]\n",
        "print('Before Trimming:', len(data))\n",
        "print('After Trimming:', len(new_data))\n",
        "print('Outliers that removed:', len(data)-len(new_data))"
      ],
      "metadata": {
        "colab": {
          "base_uri": "https://localhost:8080/"
        },
        "id": "1X9h-UBr3D93",
        "outputId": "e66ed925-d17f-4334-8536-cdb83b6289d9"
      },
      "execution_count": 35,
      "outputs": [
        {
          "output_type": "stream",
          "name": "stdout",
          "text": [
            "Before Trimming: 99457\n",
            "After Trimming: 94433\n",
            "Outliers that removed: 5024\n"
          ]
        }
      ]
    },
    {
      "cell_type": "code",
      "source": [
        "sns.boxplot(new_data['price'])"
      ],
      "metadata": {
        "colab": {
          "base_uri": "https://localhost:8080/",
          "height": 431
        },
        "id": "LF8rRPXe3O5H",
        "outputId": "787b82d5-5eac-406d-a9f7-99c7c4ca8b4d"
      },
      "execution_count": 36,
      "outputs": [
        {
          "output_type": "execute_result",
          "data": {
            "text/plain": [
              "<Axes: ylabel='price'>"
            ]
          },
          "metadata": {},
          "execution_count": 36
        },
        {
          "output_type": "display_data",
          "data": {
            "text/plain": [
              "<Figure size 640x480 with 1 Axes>"
            ],
            "image/png": "[encoded data removed]"
          },
          "metadata": {}
        }
      ]
    },
    {
      "cell_type": "code",
      "source": [
        "#Capping Outliers\n",
        "new_data= data.copy()\n",
        "new_data.loc[new_data['price']>top, 'price'] = top\n",
        "new_data.loc[new_data['price']<bot, 'price'] = bot"
      ],
      "metadata": {
        "id": "RDpC87WZ3WZC"
      },
      "execution_count": 37,
      "outputs": []
    },
    {
      "cell_type": "code",
      "source": [
        "sns.boxplot(new_data['price'])"
      ],
      "metadata": {
        "colab": {
          "base_uri": "https://localhost:8080/",
          "height": 428
        },
        "id": "1bwtWMeX3ijV",
        "outputId": "d92088a6-7d12-46dd-e382-dfc1375405da"
      },
      "execution_count": 38,
      "outputs": [
        {
          "output_type": "execute_result",
          "data": {
            "text/plain": [
              "<Axes: ylabel='price'>"
            ]
          },
          "metadata": {},
          "execution_count": 38
        },
        {
          "output_type": "display_data",
          "data": {
            "text/plain": [
              "<Figure size 640x480 with 1 Axes>"
            ],
            "image/png": "[encoded data removed]"
          },
          "metadata": {}
        }
      ]
    },
    {
      "cell_type": "code",
      "source": [
        "#Conclusion\n",
        "#For this size of datasets, the IQR Method with Capping the Outliers showing a better result to handle the outliers.\n",
        "#Z score might be a good way to handle the outlier if the data are normally distributed and/or smaller size."
      ],
      "metadata": {
        "id": "a8n0NWsi3pD2"
      },
      "execution_count": null,
      "outputs": []
    }
  ]
}